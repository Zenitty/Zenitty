{
  "nbformat": 4,
  "nbformat_minor": 0,
  "metadata": {
    "colab": {
      "provenance": [],
      "authorship_tag": "ABX9TyMlXg65IIs3iVMiEW5IDrLG",
      "include_colab_link": true
    },
    "kernelspec": {
      "name": "python3",
      "display_name": "Python 3"
    },
    "language_info": {
      "name": "python"
    }
  },
  "cells": [
    {
      "cell_type": "markdown",
      "metadata": {
        "id": "view-in-github",
        "colab_type": "text"
      },
      "source": [
        "<a href=\"https://colab.research.google.com/github/Zenitty/Zenitty/blob/main/pedro_pneus.ipynb\" target=\"_parent\"><img src=\"https://colab.research.google.com/assets/colab-badge.svg\" alt=\"Open In Colab\"/></a>"
      ]
    },
    {
      "cell_type": "code",
      "execution_count": 1,
      "metadata": {
        "id": "UD7TvaVRw8LY",
        "colab": {
          "base_uri": "https://localhost:8080/"
        },
        "outputId": "f382ee3a-0abb-49f7-b76f-cf2d291e983d"
      },
      "outputs": [
        {
          "output_type": "stream",
          "name": "stdout",
          "text": [
            "agora nao ta mais vazio\n"
          ]
        }
      ],
      "source": [
        "print(\"agora nao ta mais vazio\")"
      ]
    }
  ]
}